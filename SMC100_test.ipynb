{
 "cells": [
  {
   "cell_type": "markdown",
   "id": "0819aa4c-d304-4383-a344-b7b7182fa665",
   "metadata": {},
   "source": [
    "# import packages"
   ]
  },
  {
   "cell_type": "code",
   "execution_count": 1,
   "id": "10d545ba-5471-42cd-b1e3-9eede9235cb8",
   "metadata": {},
   "outputs": [],
   "source": [
    "import numpy as np\n",
    "import matplotlib.pyplot as plt"
   ]
  },
  {
   "cell_type": "code",
   "execution_count": 2,
   "id": "eba95185-ee6e-4869-b12d-73ff0b248008",
   "metadata": {},
   "outputs": [],
   "source": [
    "from nplab.instrument.stage.SMC100 import SMC100"
   ]
  },
  {
   "cell_type": "code",
   "execution_count": 3,
   "id": "786ecc82-2620-48f0-8bd3-24eb6afdf4f0",
   "metadata": {},
   "outputs": [],
   "source": [
    "from qtwidgets import toggle"
   ]
  },
  {
   "cell_type": "code",
   "execution_count": 3,
   "id": "08edb082-3887-4e52-b932-385d26bf3ff6",
   "metadata": {},
   "outputs": [
    {
     "data": {
      "text/plain": [
       "nplab.instrument.stage.SMC100.SMC100"
      ]
     },
     "execution_count": 3,
     "metadata": {},
     "output_type": "execute_result"
    }
   ],
   "source": [
    "SMC100"
   ]
  },
  {
   "cell_type": "code",
   "execution_count": 4,
   "id": "3721d224-eb00-46ad-9e70-d3880b81795b",
   "metadata": {},
   "outputs": [
    {
     "ename": "NameError",
     "evalue": "name 'stage' is not defined",
     "output_type": "error",
     "traceback": [
      "\u001b[1;31m---------------------------------------------------------------------------\u001b[0m",
      "\u001b[1;31mNameError\u001b[0m                                 Traceback (most recent call last)",
      "Cell \u001b[1;32mIn[4], line 1\u001b[0m\n\u001b[1;32m----> 1\u001b[0m \u001b[43mstage\u001b[49m\u001b[38;5;241m.\u001b[39m\u001b[38;5;21m__del__\u001b[39m()\n",
      "\u001b[1;31mNameError\u001b[0m: name 'stage' is not defined"
     ]
    }
   ],
   "source": [
    "stage.__del__()"
   ]
  },
  {
   "cell_type": "code",
   "execution_count": 4,
   "id": "cc2e9cd3-3cbb-4360-9d8e-b2a1d010e352",
   "metadata": {},
   "outputs": [],
   "source": [
    "stage = SMC100(port='COM4', smcID=(1,2), unit='m')"
   ]
  },
  {
   "cell_type": "code",
   "execution_count": 4,
   "id": "93e58f76-5b79-47ac-a6fb-47b8f097b7df",
   "metadata": {},
   "outputs": [
    {
     "data": {
      "text/plain": [
       "'m'"
      ]
     },
     "execution_count": 4,
     "metadata": {},
     "output_type": "execute_result"
    }
   ],
   "source": [
    "stage.unit"
   ]
  },
  {
   "cell_type": "code",
   "execution_count": 8,
   "id": "8d0f761e-6059-4e48-b7e3-d28f2db21d51",
   "metadata": {},
   "outputs": [],
   "source": [
    "stage.set_state(axis=(1,2), state=True)"
   ]
  },
  {
   "cell_type": "code",
   "execution_count": 5,
   "id": "68dac93d-5b35-44ca-ae69-1ac091f266f0",
   "metadata": {},
   "outputs": [
    {
     "name": "stdout",
     "output_type": "stream",
     "text": [
      "[Instrument.SMC100] - INFO: Found stage () - 13:04 \n"
     ]
    }
   ],
   "source": [
    "stage.reset_and_configure()"
   ]
  },
  {
   "cell_type": "code",
   "execution_count": 5,
   "id": "889e720e-51a9-4287-b0d4-fbb7eaad431d",
   "metadata": {
    "scrolled": true
   },
   "outputs": [
    {
     "name": "stdout",
     "output_type": "stream",
     "text": [
      "Running GUI, this will block the command line until the window is closed.\n",
      "[Instrument.SMC100] - INFO: Found stage () - 13:07 \n",
      "state = False\n",
      "state = True\n"
     ]
    },
    {
     "ename": "SMC100WaitTimedOutException",
     "evalue": "Wait timed out",
     "output_type": "error",
     "traceback": [
      "\u001b[1;31m---------------------------------------------------------------------------\u001b[0m",
      "\u001b[1;31mSMC100WaitTimedOutException\u001b[0m               Traceback (most recent call last)",
      "File \u001b[1;32m~\\AppData\\Local\\anaconda3\\envs\\nplab\\lib\\site-packages\\nplab\\instrument\\stage\\__init__.py:327\u001b[0m, in \u001b[0;36mStageUI.button_pressed\u001b[1;34m(self, *args, **kwargs)\u001b[0m\n\u001b[0;32m    325\u001b[0m axis \u001b[38;5;241m=\u001b[39m \u001b[38;5;28mself\u001b[39m\u001b[38;5;241m.\u001b[39mstage\u001b[38;5;241m.\u001b[39maxis_names[index]\n\u001b[0;32m    326\u001b[0m position \u001b[38;5;241m=\u001b[39m \u001b[38;5;28mfloat\u001b[39m(\u001b[38;5;28mself\u001b[39m\u001b[38;5;241m.\u001b[39mset_positions[index]\u001b[38;5;241m.\u001b[39mtext())\n\u001b[1;32m--> 327\u001b[0m \u001b[38;5;28;43mself\u001b[39;49m\u001b[38;5;241;43m.\u001b[39;49m\u001b[43mmove_axis_absolute\u001b[49m\u001b[43m(\u001b[49m\u001b[43mposition\u001b[49m\u001b[43m,\u001b[49m\u001b[43m \u001b[49m\u001b[43maxis\u001b[49m\u001b[43m)\u001b[49m\n",
      "File \u001b[1;32m~\\AppData\\Local\\anaconda3\\envs\\nplab\\lib\\site-packages\\nplab\\instrument\\stage\\__init__.py:164\u001b[0m, in \u001b[0;36mStageUI.move_axis_absolute\u001b[1;34m(self, position, axis)\u001b[0m\n\u001b[0;32m    163\u001b[0m \u001b[38;5;28;01mdef\u001b[39;00m \u001b[38;5;21mmove_axis_absolute\u001b[39m(\u001b[38;5;28mself\u001b[39m, position, axis):\n\u001b[1;32m--> 164\u001b[0m     \u001b[38;5;28;43mself\u001b[39;49m\u001b[38;5;241;43m.\u001b[39;49m\u001b[43mstage\u001b[49m\u001b[38;5;241;43m.\u001b[39;49m\u001b[43mmove\u001b[49m\u001b[43m(\u001b[49m\u001b[43mposition\u001b[49m\u001b[43m,\u001b[49m\u001b[43m \u001b[49m\u001b[43maxis\u001b[49m\u001b[38;5;241;43m=\u001b[39;49m\u001b[43maxis\u001b[49m\u001b[43m,\u001b[49m\u001b[43m \u001b[49m\u001b[43mrelative\u001b[49m\u001b[38;5;241;43m=\u001b[39;49m\u001b[38;5;28;43;01mFalse\u001b[39;49;00m\u001b[43m)\u001b[49m\n\u001b[0;32m    165\u001b[0m     \u001b[38;5;28;01mif\u001b[39;00m \u001b[38;5;28mtype\u001b[39m(axis) \u001b[38;5;241m==\u001b[39m \u001b[38;5;28mstr\u001b[39m:\n\u001b[0;32m    166\u001b[0m         \u001b[38;5;28mself\u001b[39m\u001b[38;5;241m.\u001b[39mupdate_ui[\u001b[38;5;28mstr\u001b[39m]\u001b[38;5;241m.\u001b[39memit(axis)\n",
      "File \u001b[1;32m~\\AppData\\Local\\anaconda3\\envs\\nplab\\lib\\site-packages\\nplab\\instrument\\stage\\SMC100.py:388\u001b[0m, in \u001b[0;36mSMC100.move\u001b[1;34m(self, pos, axis, relative, waitStop, scale)\u001b[0m\n\u001b[0;32m    381\u001b[0m         index \u001b[38;5;241m+\u001b[39m\u001b[38;5;241m=\u001b[39m \u001b[38;5;241m1\u001b[39m\n\u001b[0;32m    383\u001b[0m \u001b[38;5;28;01mif\u001b[39;00m waitStop:\n\u001b[0;32m    384\u001b[0m     \u001b[38;5;66;03m# If we were previously homed, then something like PR0 will have no\u001b[39;00m\n\u001b[0;32m    385\u001b[0m     \u001b[38;5;66;03m# effect and we end up waiting forever for ready from moving because\u001b[39;00m\n\u001b[0;32m    386\u001b[0m     \u001b[38;5;66;03m# we never left ready from homing. This is why STATE_READY_FROM_HOMING\u001b[39;00m\n\u001b[0;32m    387\u001b[0m     \u001b[38;5;66;03m# is included.\u001b[39;00m\n\u001b[1;32m--> 388\u001b[0m     \u001b[38;5;28;43mself\u001b[39;49m\u001b[38;5;241;43m.\u001b[39;49m\u001b[43m_wait_states\u001b[49m\u001b[43m(\u001b[49m\u001b[43m(\u001b[49m\u001b[43mSTATE_READY_FROM_MOVING\u001b[49m\u001b[43m,\u001b[49m\u001b[43m \u001b[49m\u001b[43mSTATE_READY_FROM_HOMING\u001b[49m\u001b[43m)\u001b[49m\u001b[43m)\u001b[49m\n",
      "File \u001b[1;32m~\\AppData\\Local\\anaconda3\\envs\\nplab\\lib\\site-packages\\nplab\\instrument\\stage\\SMC100.py:262\u001b[0m, in \u001b[0;36mSMC100._wait_states\u001b[1;34m(self, targetstates, ignore_disabled_states)\u001b[0m\n\u001b[0;32m    259\u001b[0m waittime \u001b[38;5;241m=\u001b[39m time\u001b[38;5;241m.\u001b[39mtime() \u001b[38;5;241m-\u001b[39m starttime\n\u001b[0;32m    260\u001b[0m \u001b[38;5;28;01mif\u001b[39;00m waittime \u001b[38;5;241m>\u001b[39m MAX_WAIT_TIME_SEC:\n\u001b[1;32m--> 262\u001b[0m     \u001b[38;5;28;01mraise\u001b[39;00m SMC100WaitTimedOutException()\n\u001b[0;32m    264\u001b[0m \u001b[38;5;28;01mtry\u001b[39;00m:\n\u001b[0;32m    265\u001b[0m     state \u001b[38;5;241m=\u001b[39m \u001b[38;5;28mself\u001b[39m\u001b[38;5;241m.\u001b[39mget_status()[axes][\u001b[38;5;241m1\u001b[39m]\n",
      "\u001b[1;31mSMC100WaitTimedOutException\u001b[0m: Wait timed out"
     ]
    },
    {
     "ename": "SMC100WaitTimedOutException",
     "evalue": "Wait timed out",
     "output_type": "error",
     "traceback": [
      "\u001b[1;31m---------------------------------------------------------------------------\u001b[0m",
      "\u001b[1;31mSMC100WaitTimedOutException\u001b[0m               Traceback (most recent call last)",
      "File \u001b[1;32m~\\AppData\\Local\\anaconda3\\envs\\nplab\\lib\\site-packages\\nplab\\instrument\\stage\\__init__.py:327\u001b[0m, in \u001b[0;36mStageUI.button_pressed\u001b[1;34m(self, *args, **kwargs)\u001b[0m\n\u001b[0;32m    325\u001b[0m axis \u001b[38;5;241m=\u001b[39m \u001b[38;5;28mself\u001b[39m\u001b[38;5;241m.\u001b[39mstage\u001b[38;5;241m.\u001b[39maxis_names[index]\n\u001b[0;32m    326\u001b[0m position \u001b[38;5;241m=\u001b[39m \u001b[38;5;28mfloat\u001b[39m(\u001b[38;5;28mself\u001b[39m\u001b[38;5;241m.\u001b[39mset_positions[index]\u001b[38;5;241m.\u001b[39mtext())\n\u001b[1;32m--> 327\u001b[0m \u001b[38;5;28;43mself\u001b[39;49m\u001b[38;5;241;43m.\u001b[39;49m\u001b[43mmove_axis_absolute\u001b[49m\u001b[43m(\u001b[49m\u001b[43mposition\u001b[49m\u001b[43m,\u001b[49m\u001b[43m \u001b[49m\u001b[43maxis\u001b[49m\u001b[43m)\u001b[49m\n",
      "File \u001b[1;32m~\\AppData\\Local\\anaconda3\\envs\\nplab\\lib\\site-packages\\nplab\\instrument\\stage\\__init__.py:164\u001b[0m, in \u001b[0;36mStageUI.move_axis_absolute\u001b[1;34m(self, position, axis)\u001b[0m\n\u001b[0;32m    163\u001b[0m \u001b[38;5;28;01mdef\u001b[39;00m \u001b[38;5;21mmove_axis_absolute\u001b[39m(\u001b[38;5;28mself\u001b[39m, position, axis):\n\u001b[1;32m--> 164\u001b[0m     \u001b[38;5;28;43mself\u001b[39;49m\u001b[38;5;241;43m.\u001b[39;49m\u001b[43mstage\u001b[49m\u001b[38;5;241;43m.\u001b[39;49m\u001b[43mmove\u001b[49m\u001b[43m(\u001b[49m\u001b[43mposition\u001b[49m\u001b[43m,\u001b[49m\u001b[43m \u001b[49m\u001b[43maxis\u001b[49m\u001b[38;5;241;43m=\u001b[39;49m\u001b[43maxis\u001b[49m\u001b[43m,\u001b[49m\u001b[43m \u001b[49m\u001b[43mrelative\u001b[49m\u001b[38;5;241;43m=\u001b[39;49m\u001b[38;5;28;43;01mFalse\u001b[39;49;00m\u001b[43m)\u001b[49m\n\u001b[0;32m    165\u001b[0m     \u001b[38;5;28;01mif\u001b[39;00m \u001b[38;5;28mtype\u001b[39m(axis) \u001b[38;5;241m==\u001b[39m \u001b[38;5;28mstr\u001b[39m:\n\u001b[0;32m    166\u001b[0m         \u001b[38;5;28mself\u001b[39m\u001b[38;5;241m.\u001b[39mupdate_ui[\u001b[38;5;28mstr\u001b[39m]\u001b[38;5;241m.\u001b[39memit(axis)\n",
      "File \u001b[1;32m~\\AppData\\Local\\anaconda3\\envs\\nplab\\lib\\site-packages\\nplab\\instrument\\stage\\SMC100.py:388\u001b[0m, in \u001b[0;36mSMC100.move\u001b[1;34m(self, pos, axis, relative, waitStop, scale)\u001b[0m\n\u001b[0;32m    381\u001b[0m         index \u001b[38;5;241m+\u001b[39m\u001b[38;5;241m=\u001b[39m \u001b[38;5;241m1\u001b[39m\n\u001b[0;32m    383\u001b[0m \u001b[38;5;28;01mif\u001b[39;00m waitStop:\n\u001b[0;32m    384\u001b[0m     \u001b[38;5;66;03m# If we were previously homed, then something like PR0 will have no\u001b[39;00m\n\u001b[0;32m    385\u001b[0m     \u001b[38;5;66;03m# effect and we end up waiting forever for ready from moving because\u001b[39;00m\n\u001b[0;32m    386\u001b[0m     \u001b[38;5;66;03m# we never left ready from homing. This is why STATE_READY_FROM_HOMING\u001b[39;00m\n\u001b[0;32m    387\u001b[0m     \u001b[38;5;66;03m# is included.\u001b[39;00m\n\u001b[1;32m--> 388\u001b[0m     \u001b[38;5;28;43mself\u001b[39;49m\u001b[38;5;241;43m.\u001b[39;49m\u001b[43m_wait_states\u001b[49m\u001b[43m(\u001b[49m\u001b[43m(\u001b[49m\u001b[43mSTATE_READY_FROM_MOVING\u001b[49m\u001b[43m,\u001b[49m\u001b[43m \u001b[49m\u001b[43mSTATE_READY_FROM_HOMING\u001b[49m\u001b[43m)\u001b[49m\u001b[43m)\u001b[49m\n",
      "File \u001b[1;32m~\\AppData\\Local\\anaconda3\\envs\\nplab\\lib\\site-packages\\nplab\\instrument\\stage\\SMC100.py:262\u001b[0m, in \u001b[0;36mSMC100._wait_states\u001b[1;34m(self, targetstates, ignore_disabled_states)\u001b[0m\n\u001b[0;32m    259\u001b[0m waittime \u001b[38;5;241m=\u001b[39m time\u001b[38;5;241m.\u001b[39mtime() \u001b[38;5;241m-\u001b[39m starttime\n\u001b[0;32m    260\u001b[0m \u001b[38;5;28;01mif\u001b[39;00m waittime \u001b[38;5;241m>\u001b[39m MAX_WAIT_TIME_SEC:\n\u001b[1;32m--> 262\u001b[0m     \u001b[38;5;28;01mraise\u001b[39;00m SMC100WaitTimedOutException()\n\u001b[0;32m    264\u001b[0m \u001b[38;5;28;01mtry\u001b[39;00m:\n\u001b[0;32m    265\u001b[0m     state \u001b[38;5;241m=\u001b[39m \u001b[38;5;28mself\u001b[39m\u001b[38;5;241m.\u001b[39mget_status()[axes][\u001b[38;5;241m1\u001b[39m]\n",
      "\u001b[1;31mSMC100WaitTimedOutException\u001b[0m: Wait timed out"
     ]
    },
    {
     "name": "stdout",
     "output_type": "stream",
     "text": [
      "[Instrument.SMC100] - INFO: Found stage () - 13:09 \n"
     ]
    },
    {
     "data": {
      "text/plain": [
       "0"
      ]
     },
     "execution_count": 5,
     "metadata": {},
     "output_type": "execute_result"
    }
   ],
   "source": [
    "stage.show_gui()"
   ]
  },
  {
   "cell_type": "code",
   "execution_count": 6,
   "id": "dbe12fd9-c4c2-497c-9cdb-9f40460d235d",
   "metadata": {},
   "outputs": [],
   "source": [
    "stage.home(axis=(1,))"
   ]
  },
  {
   "cell_type": "markdown",
   "id": "b5704634-7fbb-431e-a18b-9457c2119485",
   "metadata": {},
   "source": [
    "`stage._send_cmd(command= , axes=, argument=, expect_response=False, retry=False)`"
   ]
  },
  {
   "cell_type": "code",
   "execution_count": 14,
   "id": "5203a2fc-6e9d-4493-8d62-6c7f627ef7d8",
   "metadata": {},
   "outputs": [
    {
     "name": "stdout",
     "output_type": "stream",
     "text": [
      "('1.00000', '1.00425')\n"
     ]
    }
   ],
   "source": [
    "pos = stage._send_cmd('TP', axes=(1,2), argument='?', expect_response=True, retry=10)\n",
    "print(pos)"
   ]
  },
  {
   "cell_type": "code",
   "execution_count": 15,
   "id": "f1ef03a3-b22d-44e9-b012-a0800d9fa4c6",
   "metadata": {},
   "outputs": [
    {
     "data": {
      "text/plain": [
       "([0, '33'], [0, '34'])"
      ]
     },
     "execution_count": 15,
     "metadata": {},
     "output_type": "execute_result"
    }
   ],
   "source": [
    "stage.get_status()"
   ]
  },
  {
   "cell_type": "code",
   "execution_count": null,
   "id": "b9c86cb7-2009-451d-a06d-ddb0095fd224",
   "metadata": {},
   "outputs": [],
   "source": []
  },
  {
   "cell_type": "markdown",
   "id": "1a8330d3-0d43-4236-9134-9c3f7d0a9c9f",
   "metadata": {},
   "source": [
    "`get_status` sends `TS\\r\\n` to the actuator and receives the status \n",
    "\n"
   ]
  },
  {
   "cell_type": "code",
   "execution_count": 30,
   "id": "0acfe204-fad5-40d7-aafa-f7cb7e56e076",
   "metadata": {},
   "outputs": [],
   "source": [
    "# States from page 65 of the manual\n",
    "STATE_NOT_REFERENCED_FROM_RESET = '0A'\n",
    "STATE_NOT_REFERENCED_FROM_CONFIGURATION = '0C'\n",
    "STATE_READY_FROM_HOMING = '32'\n",
    "STATE_READY_FROM_MOVING = '33'\n",
    "\n",
    "STATE_CONFIGURATION = '14'\n",
    "\n",
    "STATE_DISABLE_FROM_READY = '3C'\n",
    "STATE_DISABLE_FROM_MOVING = '3D'\n",
    "STATE_DISABLE_FROM_JOGGING = '3E'\n"
   ]
  },
  {
   "cell_type": "markdown",
   "id": "2c694f1a-d269-4d63-a46d-e83a546566e7",
   "metadata": {},
   "source": [
    "right now the axis=2 is not referenced from configuration. "
   ]
  },
  {
   "cell_type": "code",
   "execution_count": null,
   "id": "a8d59a40-ab24-4480-81b2-a2b5b3c3c060",
   "metadata": {},
   "outputs": [],
   "source": [
    "i"
   ]
  },
  {
   "cell_type": "code",
   "execution_count": 6,
   "id": "4f711017-9261-4621-b7ee-0c1b7d661f36",
   "metadata": {},
   "outputs": [
    {
     "name": "stdout",
     "output_type": "stream",
     "text": [
      "[Instrument.SMC100] - INFO: Found stage () - 21:15 \n"
     ]
    }
   ],
   "source": [
    "stage.reset_and_configure()"
   ]
  },
  {
   "cell_type": "code",
   "execution_count": 10,
   "id": "e8203ec1-3114-4ce0-a06a-c593e85eb5d2",
   "metadata": {},
   "outputs": [],
   "source": [
    "import time"
   ]
  },
  {
   "cell_type": "code",
   "execution_count": 89,
   "id": "a2fc0ce5-b864-4358-a5e0-6c47aea7717a",
   "metadata": {},
   "outputs": [
    {
     "data": {
      "text/plain": [
       "()"
      ]
     },
     "execution_count": 89,
     "metadata": {},
     "output_type": "execute_result"
    }
   ],
   "source": [
    "stage._send_cmd(command='RS' , axes=('1','2'), argument=None, expect_response=False, retry=False)\n",
    "stage._send_cmd(command='RS' , axes=(1,2), argument=None, expect_response=False, retry=False)"
   ]
  },
  {
   "cell_type": "code",
   "execution_count": 78,
   "id": "d4b2bc66",
   "metadata": {},
   "outputs": [],
   "source": [
    "#stage.flush()\n",
    "stage._send_cmd(command='ID' , axes=(1,2), argument='?', expect_response=True, retry=True)\n",
    "stage._send_cmd(command='PW' , axes=(1, 2), argument='1', expect_response=False, retry=False)\n",
    "time.sleep(5)\n"
   ]
  },
  {
   "cell_type": "code",
   "execution_count": 79,
   "id": "dd936049-e1ae-4f94-82a7-1dfcfae7499c",
   "metadata": {},
   "outputs": [
    {
     "data": {
      "text/plain": [
       "()"
      ]
     },
     "execution_count": 79,
     "metadata": {},
     "output_type": "execute_result"
    }
   ],
   "source": [
    "stage._send_cmd(command='ZX' , axes=(1, 2), argument='1', expect_response=False, retry=False)\n",
    "stage._send_cmd(command='ZX' , axes=(1, 2), argument='2', expect_response=False, retry=False)\n",
    "stage._send_cmd(command='PW' , axes=(1, 2), argument='0', expect_response=False, retry=False)"
   ]
  },
  {
   "cell_type": "code",
   "execution_count": 80,
   "id": "c2352d69",
   "metadata": {},
   "outputs": [
    {
     "data": {
      "text/plain": [
       "()"
      ]
     },
     "execution_count": 80,
     "metadata": {},
     "output_type": "execute_result"
    }
   ],
   "source": [
    "stage._send_cmd(command='ZX' , axes=(2), argument='1', expect_response=False, retry=False)\n",
    "stage._send_cmd(command='ZX' , axes=(2), argument='2', expect_response=False, retry=False)\n",
    "stage._send_cmd(command='PW' , axes=(2), argument='0', expect_response=False, retry=False)"
   ]
  },
  {
   "cell_type": "code",
   "execution_count": 81,
   "id": "d27701b8-782a-405e-97eb-03ab43e3fdc4",
   "metadata": {},
   "outputs": [
    {
     "data": {
      "text/plain": [
       "('LTA-HS_PN:B126747_UD:13/09/2012', 'LTA-HS_PN:B127118_UD:13/09/2012')"
      ]
     },
     "execution_count": 81,
     "metadata": {},
     "output_type": "execute_result"
    }
   ],
   "source": [
    "stage._send_cmd(command='ID' , axes=(1,2), argument='?', expect_response=True, retry=False)"
   ]
  },
  {
   "cell_type": "code",
   "execution_count": null,
   "id": "1d4f1abf-3dee-4d0e-affa-39186d859459",
   "metadata": {},
   "outputs": [],
   "source": []
  },
  {
   "cell_type": "code",
   "execution_count": 135,
   "id": "2249c26e-6b65-4a45-8e8c-a57428ee37d8",
   "metadata": {},
   "outputs": [
    {
     "data": {
      "text/plain": [
       "()"
      ]
     },
     "execution_count": 135,
     "metadata": {},
     "output_type": "execute_result"
    }
   ],
   "source": [
    "stage._send_cmd(command='PW' , axes=(1, 2), argument='1', expect_response=False, retry=False)\n",
    "# stage._readline()"
   ]
  },
  {
   "cell_type": "code",
   "execution_count": 9,
   "id": "44b658ab-d995-4554-94fe-0a88d0825f67",
   "metadata": {},
   "outputs": [
    {
     "data": {
      "text/plain": [
       "()"
      ]
     },
     "execution_count": 9,
     "metadata": {},
     "output_type": "execute_result"
    }
   ],
   "source": [
    "stage._send_cmd(command='OR' , axes=(1), argument=None, expect_response=False, retry=True)"
   ]
  },
  {
   "cell_type": "code",
   "execution_count": 10,
   "id": "96bc0088-8c79-464c-a893-a173ef86f830",
   "metadata": {},
   "outputs": [
    {
     "data": {
      "text/plain": [
       "()"
      ]
     },
     "execution_count": 10,
     "metadata": {},
     "output_type": "execute_result"
    }
   ],
   "source": [
    "stage._send_cmd(command='OR' , axes=(1, 2), argument=None, expect_response=False, retry=False)"
   ]
  },
  {
   "cell_type": "code",
   "execution_count": 64,
   "id": "3c020bf7",
   "metadata": {},
   "outputs": [
    {
     "data": {
      "text/plain": [
       "('000032', '000014')"
      ]
     },
     "execution_count": 64,
     "metadata": {},
     "output_type": "execute_result"
    }
   ],
   "source": [
    "#stage.flush()\n",
    "stage._send_cmd(command='TS' , axes=(1,2), argument='?', expect_response=True, retry=False)\n"
   ]
  },
  {
   "cell_type": "code",
   "execution_count": 11,
   "id": "e7111ea4",
   "metadata": {},
   "outputs": [
    {
     "data": {
      "text/plain": [
       "()"
      ]
     },
     "execution_count": 11,
     "metadata": {},
     "output_type": "execute_result"
    }
   ],
   "source": [
    "#stage.flush()\n",
    "stage._send_cmd(command='PR' , axes=(1,2), argument='5', expect_response=False, retry=False)\n",
    "#stage._readline()"
   ]
  },
  {
   "cell_type": "code",
   "execution_count": 26,
   "id": "10cf81aa",
   "metadata": {},
   "outputs": [
    {
     "data": {
      "text/plain": [
       "()"
      ]
     },
     "execution_count": 26,
     "metadata": {},
     "output_type": "execute_result"
    }
   ],
   "source": [
    "#stage.flush()\n",
    "stage._send_cmd(command='MM' , axes=(1,2), argument=1, expect_response=False, retry=False)\n",
    "#stage._readline()"
   ]
  },
  {
   "cell_type": "code",
   "execution_count": 30,
   "id": "8f3d625f-576e-4124-acb6-8285d44af25e",
   "metadata": {},
   "outputs": [
    {
     "data": {
      "text/plain": [
       "0"
      ]
     },
     "execution_count": 30,
     "metadata": {},
     "output_type": "execute_result"
    }
   ],
   "source": [
    "1*False"
   ]
  },
  {
   "cell_type": "code",
   "execution_count": null,
   "id": "f9694ea2-e1b4-4f19-a759-d7059c58f62d",
   "metadata": {},
   "outputs": [],
   "source": [
    "stage.get_qt_ui()"
   ]
  },
  {
   "cell_type": "code",
   "execution_count": null,
   "id": "5257cb19-7aac-4086-b904-3904b03e8f0b",
   "metadata": {},
   "outputs": [],
   "source": [
    "stage.get_qt_ui()"
   ]
  },
  {
   "cell_type": "code",
   "execution_count": 117,
   "id": "58e2c290-e6a5-4afa-ac95-d54654742921",
   "metadata": {},
   "outputs": [
    {
     "name": "stdout",
     "output_type": "stream",
     "text": [
      "[Instrument.SMC100] - INFO: Found stage () - 17:33 \n"
     ]
    }
   ],
   "source": [
    "stage.reset_and_configure()"
   ]
  },
  {
   "cell_type": "code",
   "execution_count": 38,
   "id": "01c33d23-992b-423d-9b3e-8ff50a21c903",
   "metadata": {},
   "outputs": [
    {
     "data": {
      "text/plain": [
       "[-0.0, -0.0]"
      ]
     },
     "execution_count": 38,
     "metadata": {},
     "output_type": "execute_result"
    }
   ],
   "source": [
    "stage.get_position()"
   ]
  },
  {
   "cell_type": "code",
   "execution_count": 7,
   "id": "3cc86e8e-a7f6-44ca-b8f0-8f98a33e8c42",
   "metadata": {},
   "outputs": [],
   "source": [
    "stage.home(waitStop=False)"
   ]
  },
  {
   "cell_type": "code",
   "execution_count": 8,
   "id": "24bd0135-acc1-427e-9b51-1644fd73670a",
   "metadata": {},
   "outputs": [],
   "source": [
    "stage.home(waitStop=True)"
   ]
  },
  {
   "cell_type": "code",
   "execution_count": 27,
   "id": "fd2fb579-98c7-45ef-bf16-9e2300afcc62",
   "metadata": {},
   "outputs": [],
   "source": [
    "stage.move((0.5, 0.5), axis=(1,2))"
   ]
  },
  {
   "cell_type": "code",
   "execution_count": 35,
   "id": "f93cefac",
   "metadata": {
    "scrolled": true
   },
   "outputs": [],
   "source": [
    "stage.move((12, 12), axis=(1,2))"
   ]
  },
  {
   "cell_type": "code",
   "execution_count": 18,
   "id": "94452679-6d22-4ebb-abf3-f5d23b61aa69",
   "metadata": {},
   "outputs": [
    {
     "data": {
      "text/plain": [
       "[11.99998, 11.99998]"
      ]
     },
     "execution_count": 18,
     "metadata": {},
     "output_type": "execute_result"
    }
   ],
   "source": [
    "stage.get_position()"
   ]
  },
  {
   "cell_type": "code",
   "execution_count": 34,
   "id": "8ba560a5-4af6-49f7-9819-6b36c76d40c1",
   "metadata": {},
   "outputs": [],
   "source": [
    "import time"
   ]
  },
  {
   "cell_type": "code",
   "execution_count": 36,
   "id": "a7375ef6",
   "metadata": {
    "collapsed": true,
    "jupyter": {
     "outputs_hidden": true
    },
    "scrolled": true
   },
   "outputs": [
    {
     "ename": "SMC100ReadTimeOutException",
     "evalue": "Read timed out",
     "output_type": "error",
     "traceback": [
      "\u001b[1;31m---------------------------------------------------------------------------\u001b[0m",
      "\u001b[1;31mSMC100ReadTimeOutException\u001b[0m                Traceback (most recent call last)",
      "Cell \u001b[1;32mIn[36], line 4\u001b[0m\n\u001b[0;32m      2\u001b[0m stage\u001b[38;5;241m.\u001b[39m_send_cmd(command\u001b[38;5;241m=\u001b[39m\u001b[38;5;124m'\u001b[39m\u001b[38;5;124mZX\u001b[39m\u001b[38;5;124m'\u001b[39m , axes\u001b[38;5;241m=\u001b[39m(\u001b[38;5;241m1\u001b[39m), argument\u001b[38;5;241m=\u001b[39m\u001b[38;5;124m'\u001b[39m\u001b[38;5;124m2\u001b[39m\u001b[38;5;124m'\u001b[39m, expect_response\u001b[38;5;241m=\u001b[39m\u001b[38;5;28;01mFalse\u001b[39;00m, retry\u001b[38;5;241m=\u001b[39m\u001b[38;5;28;01mFalse\u001b[39;00m)\n\u001b[0;32m      3\u001b[0m \u001b[38;5;66;03m#time.sleep(0.1)\u001b[39;00m\n\u001b[1;32m----> 4\u001b[0m \u001b[43mstage\u001b[49m\u001b[38;5;241;43m.\u001b[39;49m\u001b[43m_readline\u001b[49m\u001b[43m(\u001b[49m\u001b[43m)\u001b[49m\n",
      "File \u001b[1;32m~\\AppData\\Local\\anaconda3\\envs\\nplab\\lib\\site-packages\\nplab\\instrument\\stage\\SMC100.py:225\u001b[0m, in \u001b[0;36mSMC100._readline\u001b[1;34m(self)\u001b[0m\n\u001b[0;32m    223\u001b[0m \u001b[38;5;66;03m# ignore \\r since it is part of the line terminator\u001b[39;00m\n\u001b[0;32m    224\u001b[0m \u001b[38;5;28;01mif\u001b[39;00m \u001b[38;5;28mlen\u001b[39m(c) \u001b[38;5;241m==\u001b[39m \u001b[38;5;241m0\u001b[39m:\n\u001b[1;32m--> 225\u001b[0m     \u001b[38;5;28;01mraise\u001b[39;00m SMC100ReadTimeOutException()\n\u001b[0;32m    226\u001b[0m \u001b[38;5;28;01melif\u001b[39;00m c \u001b[38;5;241m==\u001b[39m \u001b[38;5;124m'\u001b[39m\u001b[38;5;130;01m\\r\u001b[39;00m\u001b[38;5;124m'\u001b[39m:\n\u001b[0;32m    227\u001b[0m     \u001b[38;5;28;01mcontinue\u001b[39;00m\n",
      "\u001b[1;31mSMC100ReadTimeOutException\u001b[0m: Read timed out"
     ]
    }
   ],
   "source": [
    "#stage.flush()\n",
    "stage._send_cmd(command='ZX' , axes=(1), argument='2', expect_response=False, retry=False)\n",
    "#time.sleep(0.1)\n",
    "stage._readline()"
   ]
  },
  {
   "cell_type": "code",
   "execution_count": null,
   "id": "60eb1c59-f3f0-4449-8cf1-1660a8382ab8",
   "metadata": {},
   "outputs": [],
   "source": [
    "#stage.flush()\n",
    "stage._send_cmd(command='TS' , axes=(1), argument='?', expect_response=False, retry=False)\n",
    "stage._readline()"
   ]
  },
  {
   "cell_type": "code",
   "execution_count": 23,
   "id": "40c9199f-8ab1-44d1-a97d-bbc733f300fc",
   "metadata": {},
   "outputs": [
    {
     "data": {
      "text/plain": [
       "('5', '5')"
      ]
     },
     "execution_count": 23,
     "metadata": {},
     "output_type": "execute_result"
    }
   ],
   "source": [
    "stage._send_cmd(command='VA' , axes=(1,2), argument='?', expect_response=True, retry=False)"
   ]
  },
  {
   "cell_type": "code",
   "execution_count": 24,
   "id": "e9f5a1e7",
   "metadata": {},
   "outputs": [
    {
     "data": {
      "text/plain": [
       "('0', '0')"
      ]
     },
     "execution_count": 24,
     "metadata": {},
     "output_type": "execute_result"
    }
   ],
   "source": [
    "stage._send_cmd(command='SB' , axes=(1,2), argument='?', expect_response=True, retry=False)"
   ]
  },
  {
   "cell_type": "code",
   "execution_count": 25,
   "id": "dcc4eadc",
   "metadata": {},
   "outputs": [
    {
     "data": {
      "text/plain": [
       "('2', '2')"
      ]
     },
     "execution_count": 25,
     "metadata": {},
     "output_type": "execute_result"
    }
   ],
   "source": [
    "stage._send_cmd(command='SA' , axes=(1,2), argument='?', expect_response=True, retry=False)"
   ]
  },
  {
   "cell_type": "code",
   "execution_count": 28,
   "id": "8a89aeab",
   "metadata": {},
   "outputs": [
    {
     "data": {
      "text/plain": [
       "('0.213', '0.213')"
      ]
     },
     "execution_count": 28,
     "metadata": {},
     "output_type": "execute_result"
    }
   ],
   "source": [
    "stage._send_cmd(command='QIL' , axes=(1,2), argument='?', expect_response=True, retry=False)"
   ]
  },
  {
   "cell_type": "code",
   "execution_count": 119,
   "id": "92490a9a",
   "metadata": {
    "scrolled": true
   },
   "outputs": [
    {
     "data": {
      "text/plain": [
       "()"
      ]
     },
     "execution_count": 119,
     "metadata": {},
     "output_type": "execute_result"
    }
   ],
   "source": [
    "stage._send_cmd(command='QIL' , axes=(1,2), argument=0.7, expect_response=False, retry=True)"
   ]
  },
  {
   "cell_type": "code",
   "execution_count": 102,
   "id": "6999262a",
   "metadata": {
    "scrolled": true
   },
   "outputs": [
    {
     "data": {
      "text/plain": [
       "()"
      ]
     },
     "execution_count": 102,
     "metadata": {},
     "output_type": "execute_result"
    }
   ],
   "source": [
    "stage._send_cmd(command='QIR' , axes=(1), argument=0.7, expect_response=False, retry=True)"
   ]
  },
  {
   "cell_type": "code",
   "execution_count": 42,
   "id": "7d512559",
   "metadata": {},
   "outputs": [
    {
     "data": {
      "text/plain": [
       "('0.213', '0.213')"
      ]
     },
     "execution_count": 42,
     "metadata": {},
     "output_type": "execute_result"
    }
   ],
   "source": [
    "peaklimit = stage._send_cmd(command='QIL' , axes=(1,2), argument='?', expect_response=True, retry=False)\n",
    "peaklimit"
   ]
  },
  {
   "cell_type": "code",
   "execution_count": 43,
   "id": "1a8b0dc7",
   "metadata": {},
   "outputs": [
    {
     "data": {
      "text/plain": [
       "('0.21', '0.213')"
      ]
     },
     "execution_count": 43,
     "metadata": {},
     "output_type": "execute_result"
    }
   ],
   "source": [
    "rmslimit = stage._send_cmd(command='QIR' , axes=(1,2), argument='?', expect_response=True, retry=False)\n",
    "rmslimit"
   ]
  },
  {
   "cell_type": "code",
   "execution_count": 44,
   "id": "e1511df4",
   "metadata": {},
   "outputs": [
    {
     "data": {
      "text/plain": [
       "('5', '5')"
      ]
     },
     "execution_count": 44,
     "metadata": {},
     "output_type": "execute_result"
    }
   ],
   "source": [
    "avgtime = stage._send_cmd(command='QIT' , axes=(1,2), argument='?', expect_response=True, retry=False)\n",
    "avgtime"
   ]
  },
  {
   "cell_type": "code",
   "execution_count": 11,
   "id": "8134af95",
   "metadata": {},
   "outputs": [
    {
     "data": {
      "text/plain": [
       "('0', '0')"
      ]
     },
     "execution_count": 11,
     "metadata": {},
     "output_type": "execute_result"
    }
   ],
   "source": [
    "stage._send_cmd(command='BH' , axes=(1,2), argument='?', expect_response=True, retry=False)"
   ]
  },
  {
   "cell_type": "code",
   "execution_count": 12,
   "id": "62eeb8e9",
   "metadata": {},
   "outputs": [
    {
     "data": {
      "text/plain": [
       "('24', '24')"
      ]
     },
     "execution_count": 12,
     "metadata": {},
     "output_type": "execute_result"
    }
   ],
   "source": [
    "stage._send_cmd(command='DV' , axes=(1,2), argument='?', expect_response=True, retry=False)"
   ]
  },
  {
   "cell_type": "code",
   "execution_count": 15,
   "id": "e841ddd7",
   "metadata": {},
   "outputs": [
    {
     "data": {
      "text/plain": [
       "('1', '1')"
      ]
     },
     "execution_count": 15,
     "metadata": {},
     "output_type": "execute_result"
    }
   ],
   "source": [
    "stage._send_cmd(command='VA' , axes=(1,2), argument='?', expect_response=True, retry=False)"
   ]
  },
  {
   "cell_type": "code",
   "execution_count": 14,
   "id": "66e0422f",
   "metadata": {},
   "outputs": [
    {
     "data": {
      "text/plain": [
       "()"
      ]
     },
     "execution_count": 14,
     "metadata": {},
     "output_type": "execute_result"
    }
   ],
   "source": [
    "stage._send_cmd(command='VA' , axes=(1,2), argument='1', expect_response=False, retry=False)"
   ]
  },
  {
   "cell_type": "code",
   "execution_count": 47,
   "id": "5a361df1-ba18-49c6-82e8-799a104729bb",
   "metadata": {
    "scrolled": true
   },
   "outputs": [
    {
     "name": "stdout",
     "output_type": "stream",
     "text": [
      "Help on SMC100 in module nplab.instrument.stage.SMC100 object:\n",
      "\n",
      "class SMC100(nplab.instrument.serial_instrument.SerialInstrument, nplab.instrument.stage.Stage)\n",
      " |  SMC100(port, smcID=(1,), **kwargs)\n",
      " |  \n",
      " |  Class to interface with Newport's SMC100 controller.\n",
      " |  The SMC100 accepts commands in the form of:\n",
      " |    <ID><command><arguments><CR><LF>\n",
      " |  Reply, if any, will be in the form\n",
      " |    <ID><command><result><CR><LF>\n",
      " |  There is minimal support for manually setting stage parameter as Newport's\n",
      " |  ESP stages can supply the SMC100 with the correct configuration parameters.\n",
      " |  Some effort is made to take up backlash, but this should not be trusted too\n",
      " |  much.\n",
      " |  The move commands must be used with care, because they make assumptions\n",
      " |  about the units which is dependent on the STAGE. I only have TRB25CC, which\n",
      " |  has native units of mm. A more general implementation will move the move\n",
      " |  methods into a stage class.\n",
      " |  \n",
      " |  Method resolution order:\n",
      " |      SMC100\n",
      " |      nplab.instrument.serial_instrument.SerialInstrument\n",
      " |      nplab.instrument.message_bus_instrument.MessageBusInstrument\n",
      " |      nplab.instrument.stage.Stage\n",
      " |      nplab.instrument.Instrument\n",
      " |      nplab.utils.show_gui_mixin.ShowGUIMixin\n",
      " |      builtins.object\n",
      " |  \n",
      " |  Methods defined here:\n",
      " |  \n",
      " |  __del__(self)\n",
      " |  \n",
      " |  __init__(self, port, smcID=(1,), **kwargs)\n",
      " |      If backlash_compensation is False, no backlash compensation will be done.\n",
      " |      If silent is False, then additional output will be emitted to aid in\n",
      " |      debugging.\n",
      " |      If sleepfunc is not None, then it will be used instead of time.sleep. It\n",
      " |      will be given the number of seconds (float) to sleep for, and is provided\n",
      " |      for ease integration with single threaded GUIs.\n",
      " |      Note that this method only connects to the controller, it otherwise makes\n",
      " |      no attempt to home or configure the controller for the attached stage. This\n",
      " |      delibrate to minimise realworld side effects.\n",
      " |      If the controller has previously been configured, it will suffice to simply\n",
      " |      call home() to take the controller out of not referenced mode. For a brand\n",
      " |      new controller, call reset_and_configure().\n",
      " |  \n",
      " |  get_position(self, axis=None)\n",
      " |  \n",
      " |  get_status(self)\n",
      " |      Executes TS? and returns the the error code as integer and state as string\n",
      " |      as specified on pages 64 - 65 of the manual.\n",
      " |  \n",
      " |  go_software_home(self)\n",
      " |  \n",
      " |  home(self, **kwargs)\n",
      " |      Homes the controller. If waitStop is True, then this method returns when\n",
      " |      homing is complete.\n",
      " |      Note that because calling home when the stage is already homed has no\n",
      " |      effect, and homing is generally expected to place the stage at the\n",
      " |      origin, an absolute move to 0 um is executed after homing. This ensures\n",
      " |      that the stage is at origin after calling this method.\n",
      " |      Calling this method is necessary to take the controller out of not referenced\n",
      " |      state after a restart.\n",
      " |  \n",
      " |  move(self, pos, axis=None, relative=False, waitStop=True)\n",
      " |  \n",
      " |  move_referenced(self, position_mm, **kwargs)\n",
      " |      Moves to an absolute position referenced from the software home\n",
      " |      \n",
      " |      Args:\n",
      " |          position_mm: position from the software home\n",
      " |          **kwargs: kwargs to be passed to the move command\n",
      " |      \n",
      " |      Returns:\n",
      " |  \n",
      " |  reset_and_configure(self)\n",
      " |      Configures the controller by resetting it and then asking it to load\n",
      " |      stage parameters from an ESP compatible stage. This is then followed\n",
      " |      by a homing action.\n",
      " |  \n",
      " |  set_software_home(self)\n",
      " |      Sets a software home, so that we can easily go back to similar sample positions\n",
      " |      \n",
      " |      Returns:\n",
      " |  \n",
      " |  set_velocity(self, velocity)\n",
      " |  \n",
      " |  stop(self)\n",
      " |  \n",
      " |  ----------------------------------------------------------------------\n",
      " |  Methods inherited from nplab.instrument.serial_instrument.SerialInstrument:\n",
      " |  \n",
      " |  close(self)\n",
      " |      Release the serial port\n",
      " |  \n",
      " |  find_port(self)\n",
      " |      Iterate through the available serial ports and query them to see\n",
      " |      if our instrument is there.\n",
      " |  \n",
      " |  flush_input_buffer(self)\n",
      " |      Make sure there's nothing waiting to be read, and clear the buffer if there is.\n",
      " |  \n",
      " |  open(self, port=None, quiet=True)\n",
      " |      Open communications with the serial port.\n",
      " |      \n",
      " |      If no port is specified, it will attempt to autodetect.  If quiet=True\n",
      " |      then we don't warn when ports are opened multiple times.\n",
      " |  \n",
      " |  readline(self, timeout=None)\n",
      " |      Read one line from the underlying bus.  Must be overriden.\n",
      " |  \n",
      " |  test_communications(self)\n",
      " |      Check if the device is available on the current port.\n",
      " |      \n",
      " |      This should be overridden by subclasses.  Assume the port has been\n",
      " |      successfully opened and the settings are as defined by self.port_settings.\n",
      " |      Usually this function sends a command and checks for a known reply.\n",
      " |  \n",
      " |  write(self, query_string)\n",
      " |      Write a string to the serial port\n",
      " |  \n",
      " |  ----------------------------------------------------------------------\n",
      " |  Data and other attributes inherited from nplab.instrument.serial_instrument.SerialInstrument:\n",
      " |  \n",
      " |  initial_character = ''\n",
      " |  \n",
      " |  port_settings = {}\n",
      " |  \n",
      " |  ----------------------------------------------------------------------\n",
      " |  Methods inherited from nplab.instrument.message_bus_instrument.MessageBusInstrument:\n",
      " |  \n",
      " |  float_query(self, query_string, **kwargs)\n",
      " |      Perform a query and return the result(s) as float(s) (see parsedQuery)\n",
      " |  \n",
      " |  int_query(self, query_string, **kwargs)\n",
      " |      Perform a query and return the result(s) as integer(s) (see parsedQuery)\n",
      " |  \n",
      " |  parsed_query(self, query_string, response_string='%d', re_flags=0, parse_function=None, **kwargs)\n",
      " |      Perform a query, returning a parsed form of the response.\n",
      " |      \n",
      " |      First query the instrument with the given query string, then compare\n",
      " |      the response against a template.  The template may contain text and\n",
      " |      placeholders (e.g. %i and %f for integer and floating point values\n",
      " |      respectively).  Regular expressions are also allowed - each group is\n",
      " |      considered as one item to be parsed.  However, currently it's not\n",
      " |      supported to use both % placeholders and regular expressions at the\n",
      " |      same time.\n",
      " |      \n",
      " |      If placeholders %i, %f, etc. are used, the returned values are\n",
      " |      automatically converted to integer or floating point, otherwise you\n",
      " |      must specify a parsing function (applied to all groups) or a list of\n",
      " |      parsing functions (applied to each group in turn).\n",
      " |  \n",
      " |  parsed_query_old(self, query_string, response_string='(\\\\d+)', re_flags=0, parse_function=<class 'int'>, **kwargs)\n",
      " |      Perform a query, then parse the result.\n",
      " |      \n",
      " |      By default it looks for an integer and returns one, otherwise it will\n",
      " |      match a custom regex string and return the subexpressions, parsed through\n",
      " |      the supplied functions.\n",
      " |      \n",
      " |      TODO: make this accept friendlier sscanf style arguments, and produce parse functions automatically\n",
      " |  \n",
      " |  query(self, queryString, multiline=False, termination_line=None, timeout=None)\n",
      " |      Write a string to the stage controller and return its response.\n",
      " |      \n",
      " |      It will block until a response is received.  The multiline and termination_line commands\n",
      " |      will keep reading until a termination phrase is reached.\n",
      " |  \n",
      " |  read_multiline(self, termination_line=None, timeout=None)\n",
      " |      Read one line from the underlying bus.  Must be overriden.\n",
      " |      \n",
      " |      This should not need to be reimplemented unless there's a more efficient\n",
      " |      way of reading multiple lines than multiple calls to readline().\n",
      " |  \n",
      " |  ----------------------------------------------------------------------\n",
      " |  Readonly properties inherited from nplab.instrument.message_bus_instrument.MessageBusInstrument:\n",
      " |  \n",
      " |  communications_lock\n",
      " |      A lock object used to protect access to the communications bus\n",
      " |  \n",
      " |  ----------------------------------------------------------------------\n",
      " |  Data and other attributes inherited from nplab.instrument.message_bus_instrument.MessageBusInstrument:\n",
      " |  \n",
      " |  ignore_echo = False\n",
      " |  \n",
      " |  termination_character = '\\n'\n",
      " |  \n",
      " |  termination_line = None\n",
      " |  \n",
      " |  termination_read = None\n",
      " |  \n",
      " |  ----------------------------------------------------------------------\n",
      " |  Methods inherited from nplab.instrument.stage.Stage:\n",
      " |  \n",
      " |  get_axis_param(self, get_func, axis=None)\n",
      " |  \n",
      " |  get_qt_ui(self)\n",
      " |  \n",
      " |  is_moving(self, axes=None)\n",
      " |      Returns True if any of the specified axes are in motion.\n",
      " |  \n",
      " |  move_axis(self, pos, axis, relative=False, **kwargs)\n",
      " |      Move along one axis.\n",
      " |      \n",
      " |      This function moves only in one axis, by calling self.move with \n",
      " |      appropriately generated values (i.e. it supplies all axes with position\n",
      " |      instructions, but those not moving just get the current position).\n",
      " |      \n",
      " |      It's intended for use in stages that don't support single-axis moves.\n",
      " |  \n",
      " |  move_rel(self, position, axis=None)\n",
      " |      Make a relative move, see move() with relative=True.\n",
      " |  \n",
      " |  select_axis(self, iterable, axis)\n",
      " |      Pick an element from a tuple, indexed by axis name.\n",
      " |  \n",
      " |  set_axis_param(self, set_func, value, axis=None)\n",
      " |  \n",
      " |  wait_until_stopped(self, axes=None)\n",
      " |      Block until the stage is no longer moving.\n",
      " |  \n",
      " |  ----------------------------------------------------------------------\n",
      " |  Readonly properties inherited from nplab.instrument.stage.Stage:\n",
      " |  \n",
      " |  position\n",
      " |      Current position of the stage (all axes)\n",
      " |  \n",
      " |  ----------------------------------------------------------------------\n",
      " |  Data and other attributes inherited from nplab.instrument.stage.Stage:\n",
      " |  \n",
      " |  axis_names = ('x', 'y', 'z')\n",
      " |  \n",
      " |  ----------------------------------------------------------------------\n",
      " |  Methods inherited from nplab.instrument.Instrument:\n",
      " |  \n",
      " |  bundle_metadata(self, data, enable=True, **kwargs)\n",
      " |      Add metadata to a dataset, returning an ArrayWithAttrs.\n",
      " |      \n",
      " |      Arguments:\n",
      " |      data : np.ndarray\n",
      " |          The data with which to bundle the metadata\n",
      " |      enable : boolean (optional, default to True)\n",
      " |          Set this argument to False to do nothing, i.e. just return data.\n",
      " |      **kwargs\n",
      " |          Addditional arguments are passed to get_metadata (for example, you \n",
      " |          can specify a list of `property_names` to add to the default\n",
      " |          metadata, or a list of names to exclude.\n",
      " |  \n",
      " |  get_metadata(self, property_names=[], include_default_names=True, exclude=None)\n",
      " |      A dictionary of settings, properties, etc. to save along with data.\n",
      " |      \n",
      " |      This returns the value of each property specified in the arguments or\n",
      " |      in `self.metadata_property_names`.\n",
      " |      \n",
      " |      Arguments:\n",
      " |      property_names : list of strings, optional\n",
      " |          A list specifying the names of properties (of this object) to be\n",
      " |          retrieved and returned in the dictionary.\n",
      " |      include_default_names : boolean, optional (default True)\n",
      " |          If True (the default), include the default metadata along with the\n",
      " |          specified names.  This means that get_metadata can be used with no\n",
      " |          arguments to retrieve the default metadata.\n",
      " |      exclude : list of strings, optional\n",
      " |          A list of properties to exclude (primarily useful when you want to\n",
      " |          remove some of the default entries).  Nothing is excluded by \n",
      " |          default.\n",
      " |  \n",
      " |  log(self, message, level='info')\n",
      " |      Save a log message to the current datafile.\n",
      " |      \n",
      " |      This is the preferred way to output debug/informational messages.  They\n",
      " |      will be saved in the current HDF5 file and optionally shown in the\n",
      " |      nplab console.\n",
      " |  \n",
      " |  open_config_file(self)\n",
      " |      Open the config file for the current spectrometer and return it, creating if it's not there\n",
      " |  \n",
      " |  update_config(self, name, data, attrs=None)\n",
      " |      Update the configuration file for this spectrometer.\n",
      " |      \n",
      " |      A file is created in the nplab directory that holds configuration\n",
      " |      data for the spectrometer, including reference/background.  This\n",
      " |      function allows values to be stored in that file.\n",
      " |  \n",
      " |  ----------------------------------------------------------------------\n",
      " |  Class methods inherited from nplab.instrument.Instrument:\n",
      " |  \n",
      " |  create_data_group(name, *args, **kwargs) from builtins.type\n",
      " |      Return a group to store a reading.\n",
      " |      \n",
      " |      :param name: should be a noun describing what the reading is (image,\n",
      " |      spectrum, etc.)\n",
      " |      :param attrs: may be a dictionary, saved as HDF5 metadata\n",
      " |  \n",
      " |  create_dataset(name, flush=True, *args, **kwargs) from builtins.type\n",
      " |      Store a reading in a dataset (or make a new dataset to fill later).\n",
      " |      \n",
      " |      :param name: should be a noun describing what the reading is (image,\n",
      " |      spectrum, etc.)\n",
      " |      \n",
      " |      Other arguments are passed to `nplab.datafile.Group.create_dataset`.\n",
      " |  \n",
      " |  get_instance(create=True, exceptions=True, *args, **kwargs) from builtins.type\n",
      " |      Return an instance of this class, if one exists.\n",
      " |      \n",
      " |      Usually returns the first available instance.\n",
      " |  \n",
      " |  get_instances() from builtins.type\n",
      " |      Return a list of all available instances of this class.\n",
      " |  \n",
      " |  get_root_data_folder() from builtins.type\n",
      " |      Return a sensibly-named data folder in the default file.\n",
      " |  \n",
      " |  instances_set() from builtins.type\n",
      " |  \n",
      " |  ----------------------------------------------------------------------\n",
      " |  Readonly properties inherited from nplab.instrument.Instrument:\n",
      " |  \n",
      " |  config_file\n",
      " |      Open the config file for the current spectrometer and return it, creating if it's not there\n",
      " |  \n",
      " |  metadata\n",
      " |      A dictionary of settings, properties, etc. to save along with data.\n",
      " |      \n",
      " |      This returns the value of each property specified in the arguments or\n",
      " |      in `self.metadata_property_names`.\n",
      " |      \n",
      " |      Arguments:\n",
      " |      property_names : list of strings, optional\n",
      " |          A list specifying the names of properties (of this object) to be\n",
      " |          retrieved and returned in the dictionary.\n",
      " |      include_default_names : boolean, optional (default True)\n",
      " |          If True (the default), include the default metadata along with the\n",
      " |          specified names.  This means that get_metadata can be used with no\n",
      " |          arguments to retrieve the default metadata.\n",
      " |      exclude : list of strings, optional\n",
      " |          A list of properties to exclude (primarily useful when you want to\n",
      " |          remove some of the default entries).  Nothing is excluded by \n",
      " |          default.\n",
      " |  \n",
      " |  ----------------------------------------------------------------------\n",
      " |  Data and other attributes inherited from nplab.instrument.Instrument:\n",
      " |  \n",
      " |  metadata_property_names = ()\n",
      " |  \n",
      " |  ----------------------------------------------------------------------\n",
      " |  Methods inherited from nplab.utils.show_gui_mixin.ShowGUIMixin:\n",
      " |  \n",
      " |  show_gui(self, blocking=None, block=None, force_new_window=False)\n",
      " |      Display a GUI window for the class.\n",
      " |      \n",
      " |      You may override this method to display a window to control the\n",
      " |      object.  However, it's better (and less work) to provide a\n",
      " |      method `get_qt_ui()`.  This shoudl return a QWidget subclass that\n",
      " |      is the GUI for the object.  This method will take care of ensuring\n",
      " |      there's a Qt application object and displaying the GUI.\n",
      " |      \n",
      " |      If you are using traitsui, then edit_traits/configure_traits \n",
      " |      methods exist, and this method will simply pop up a traits window\n",
      " |      for the object.\n",
      " |      \n",
      " |      If you use blocking=False, it will return immediately - this allows\n",
      " |      you to continue using the console, assuming there's already a Qt\n",
      " |      application running (usually the case if you're running from \n",
      " |      Spyder).  NB you may want to retain the return value if using this\n",
      " |      mode, as otherwise the GUI may be garbage-collected and disappear.\n",
      " |      For compatibility, this function accepts either ``block`` or\n",
      " |      ``blocking`` as a keyword argument - if either is not None it will\n",
      " |      use that value, otherwise it defaults to ``True``.\n",
      " |      \n",
      " |      In the future, blocking=False may spawn a Qt application object in\n",
      " |      a background thread - but that's not currently done so we rely on\n",
      " |      a Qt application running already (e.g. via the \"input hook\").\n",
      " |      \n",
      " |      When using Qt, we default to only creating one UI, and return a\n",
      " |      handle to it each time this is called.  If ``force_new_window`` is \n",
      " |      set to `True`, a new widget will be created regardless.  This may\n",
      " |      cause issues if the retained reference to the GUI in the object is\n",
      " |      the only one existing - the previous window may disappear.\n",
      " |  \n",
      " |  ----------------------------------------------------------------------\n",
      " |  Data descriptors inherited from nplab.utils.show_gui_mixin.ShowGUIMixin:\n",
      " |  \n",
      " |  __dict__\n",
      " |      dictionary for instance variables (if defined)\n",
      " |  \n",
      " |  __weakref__\n",
      " |      list of weak references to the object (if defined)\n",
      "\n"
     ]
    }
   ],
   "source": [
    "help(stage)"
   ]
  },
  {
   "cell_type": "code",
   "execution_count": null,
   "id": "2a4ebcfd-1d20-45ed-8959-ae6b467e488b",
   "metadata": {},
   "outputs": [
    {
     "name": "stdout",
     "output_type": "stream",
     "text": [
      "Running GUI, this will block the command line until the window is closed.\n"
     ]
    }
   ],
   "source": [
    "stage.show_gui()"
   ]
  },
  {
   "cell_type": "markdown",
   "id": "a1807678-e35e-44be-bfeb-1ec9dd79aeff",
   "metadata": {},
   "source": [
    "### Debuggning GUI"
   ]
  },
  {
   "cell_type": "code",
   "execution_count": 17,
   "id": "8d803a02-e891-4768-a717-6d50831691fc",
   "metadata": {},
   "outputs": [
    {
     "data": {
      "text/plain": [
       "\u001b[1;31mSignature:\u001b[0m \u001b[0mstage\u001b[0m\u001b[1;33m.\u001b[0m\u001b[0mshow_gui\u001b[0m\u001b[1;33m(\u001b[0m\u001b[0mblocking\u001b[0m\u001b[1;33m=\u001b[0m\u001b[1;32mNone\u001b[0m\u001b[1;33m,\u001b[0m \u001b[0mblock\u001b[0m\u001b[1;33m=\u001b[0m\u001b[1;32mNone\u001b[0m\u001b[1;33m,\u001b[0m \u001b[0mforce_new_window\u001b[0m\u001b[1;33m=\u001b[0m\u001b[1;32mFalse\u001b[0m\u001b[1;33m)\u001b[0m\u001b[1;33m\u001b[0m\u001b[1;33m\u001b[0m\u001b[0m\n",
       "\u001b[1;31mDocstring:\u001b[0m\n",
       "Display a GUI window for the class.\n",
       "\n",
       "You may override this method to display a window to control the\n",
       "object.  However, it's better (and less work) to provide a\n",
       "method `get_qt_ui()`.  This shoudl return a QWidget subclass that\n",
       "is the GUI for the object.  This method will take care of ensuring\n",
       "there's a Qt application object and displaying the GUI.\n",
       "\n",
       "If you are using traitsui, then edit_traits/configure_traits \n",
       "methods exist, and this method will simply pop up a traits window\n",
       "for the object.\n",
       "\n",
       "If you use blocking=False, it will return immediately - this allows\n",
       "you to continue using the console, assuming there's already a Qt\n",
       "application running (usually the case if you're running from \n",
       "Spyder).  NB you may want to retain the return value if using this\n",
       "mode, as otherwise the GUI may be garbage-collected and disappear.\n",
       "For compatibility, this function accepts either ``block`` or\n",
       "``blocking`` as a keyword argument - if either is not None it will\n",
       "use that value, otherwise it defaults to ``True``.\n",
       "\n",
       "In the future, blocking=False may spawn a Qt application object in\n",
       "a background thread - but that's not currently done so we rely on\n",
       "a Qt application running already (e.g. via the \"input hook\").\n",
       "\n",
       "When using Qt, we default to only creating one UI, and return a\n",
       "handle to it each time this is called.  If ``force_new_window`` is \n",
       "set to `True`, a new widget will be created regardless.  This may\n",
       "cause issues if the retained reference to the GUI in the object is\n",
       "the only one existing - the previous window may disappear.\n",
       "\u001b[1;31mFile:\u001b[0m      c:\\users\\spraband\\appdata\\local\\anaconda3\\envs\\nplab\\lib\\site-packages\\nplab\\utils\\show_gui_mixin.py\n",
       "\u001b[1;31mType:\u001b[0m      method"
      ]
     },
     "metadata": {},
     "output_type": "display_data"
    }
   ],
   "source": [
    "?stage.show_gui"
   ]
  },
  {
   "cell_type": "code",
   "execution_count": 8,
   "id": "56bc5720-ab07-42f3-a997-5566d269fc56",
   "metadata": {},
   "outputs": [],
   "source": [
    "import os\n",
    "import nplab"
   ]
  },
  {
   "cell_type": "code",
   "execution_count": 16,
   "id": "75a4de89-cbb5-4ae3-9b36-43317cf11ab0",
   "metadata": {},
   "outputs": [
    {
     "name": "stdout",
     "output_type": "stream",
     "text": [
      "Help on method show_gui in module nplab.utils.show_gui_mixin:\n",
      "\n",
      "show_gui(blocking=None, block=None, force_new_window=False) method of nplab.instrument.stage.SMC100.SMC100 instance\n",
      "    Display a GUI window for the class.\n",
      "    \n",
      "    You may override this method to display a window to control the\n",
      "    object.  However, it's better (and less work) to provide a\n",
      "    method `get_qt_ui()`.  This shoudl return a QWidget subclass that\n",
      "    is the GUI for the object.  This method will take care of ensuring\n",
      "    there's a Qt application object and displaying the GUI.\n",
      "    \n",
      "    If you are using traitsui, then edit_traits/configure_traits \n",
      "    methods exist, and this method will simply pop up a traits window\n",
      "    for the object.\n",
      "    \n",
      "    If you use blocking=False, it will return immediately - this allows\n",
      "    you to continue using the console, assuming there's already a Qt\n",
      "    application running (usually the case if you're running from \n",
      "    Spyder).  NB you may want to retain the return value if using this\n",
      "    mode, as otherwise the GUI may be garbage-collected and disappear.\n",
      "    For compatibility, this function accepts either ``block`` or\n",
      "    ``blocking`` as a keyword argument - if either is not None it will\n",
      "    use that value, otherwise it defaults to ``True``.\n",
      "    \n",
      "    In the future, blocking=False may spawn a Qt application object in\n",
      "    a background thread - but that's not currently done so we rely on\n",
      "    a Qt application running already (e.g. via the \"input hook\").\n",
      "    \n",
      "    When using Qt, we default to only creating one UI, and return a\n",
      "    handle to it each time this is called.  If ``force_new_window`` is \n",
      "    set to `True`, a new widget will be created regardless.  This may\n",
      "    cause issues if the retained reference to the GUI in the object is\n",
      "    the only one existing - the previous window may disappear.\n",
      "\n"
     ]
    }
   ],
   "source": [
    "help(stage.show_gui)"
   ]
  },
  {
   "cell_type": "code",
   "execution_count": 21,
   "id": "de8c58ab-daff-4fca-aabd-4165ca1a4b85",
   "metadata": {},
   "outputs": [
    {
     "data": {
      "text/plain": [
       "'C:\\\\Users\\\\spraband\\\\AppData\\\\Local\\\\anaconda3\\\\envs\\\\nplab\\\\Lib\\\\site-packages\\\\nplab\\\\ui\\\\__init__.py'"
      ]
     },
     "execution_count": 21,
     "metadata": {},
     "output_type": "execute_result"
    }
   ],
   "source": [
    "os.path.realpath(nplab.ui.__file__)"
   ]
  },
  {
   "cell_type": "code",
   "execution_count": 22,
   "id": "68a1d7c1-d39e-4d58-a959-fb1d55f7fd1a",
   "metadata": {},
   "outputs": [
    {
     "data": {
      "text/plain": [
       "'C:\\\\Users\\\\spraband\\\\AppData\\\\Local\\\\anaconda3\\\\envs\\\\nplab\\\\Lib\\\\site-packages\\\\nplab\\\\ui'"
      ]
     },
     "execution_count": 22,
     "metadata": {},
     "output_type": "execute_result"
    }
   ],
   "source": [
    "os.path.dirname(os.path.realpath(nplab.ui.__file__))"
   ]
  },
  {
   "cell_type": "code",
   "execution_count": 13,
   "id": "4170f5dc-76df-4bd6-8b7c-1857da01af3d",
   "metadata": {},
   "outputs": [],
   "source": [
    "from collections import OrderedDict\n",
    "from nplab.utils.formatting import engineering_format\n",
    "\n",
    "\n",
    "def step_size_dict(smallest, largest, mantissas=[1, 2, 5],unit = 'm'):\n",
    "    \"\"\"Return a dictionary with nicely-formatted distances as keys and metres as values.\"\"\"\n",
    "    log_range = np.arange(np.floor(np.log10(smallest)), np.floor(np.log10(largest)) + 1)\n",
    "    steps = [m * 10 ** e for e in log_range for m in mantissas if smallest <= m * 10 ** e <= largest]\n",
    "    return OrderedDict((engineering_format(s, unit), s) for s in steps)\n"
   ]
  },
  {
   "cell_type": "code",
   "execution_count": 17,
   "id": "18642232-055e-4708-bdb8-8d103377bf8a",
   "metadata": {},
   "outputs": [
    {
     "data": {
      "text/plain": [
       "OrderedDict([('1 nm', 1e-09),\n",
       "             ('2 nm', 2e-09),\n",
       "             ('5 nm', 5e-09),\n",
       "             ('10 nm', 1e-08),\n",
       "             ('20 nm', 2e-08),\n",
       "             ('50 nm', 5e-08),\n",
       "             ('100 nm', 1e-07),\n",
       "             ('200 nm', 2e-07),\n",
       "             ('500 nm', 5e-07),\n",
       "             ('1 um', 1e-06),\n",
       "             ('2 um', 2e-06),\n",
       "             ('5 um', 4.9999999999999996e-06),\n",
       "             ('10 um', 1e-05),\n",
       "             ('20 um', 2e-05),\n",
       "             ('50 um', 5e-05),\n",
       "             ('100 um', 0.0001),\n",
       "             ('200 um', 0.0002),\n",
       "             ('500 um', 0.0005),\n",
       "             ('1 mm', 0.001),\n",
       "             ('2 mm', 0.002),\n",
       "             ('5 mm', 0.005),\n",
       "             ('10 mm', 0.01),\n",
       "             ('20 mm', 0.02),\n",
       "             ('50 mm', 0.05),\n",
       "             ('100 mm', 0.1),\n",
       "             ('200 mm', 0.2),\n",
       "             ('500 mm', 0.5),\n",
       "             ('1 m', 1.0),\n",
       "             ('2 m', 2.0),\n",
       "             ('5 m', 5.0),\n",
       "             ('10 m', 10.0)])"
      ]
     },
     "execution_count": 17,
     "metadata": {},
     "output_type": "execute_result"
    }
   ],
   "source": [
    "step_size_dict(smallest=1e-9, largest=10, mantissas=[1, 2, 5],unit = 'm')"
   ]
  },
  {
   "cell_type": "code",
   "execution_count": 9,
   "id": "41750fe4-55d4-4d93-bb7a-18928381e9e5",
   "metadata": {},
   "outputs": [
    {
     "name": "stdout",
     "output_type": "stream",
     "text": [
      "Running GUI, this will block the command line until the window is closed.\n"
     ]
    },
    {
     "data": {
      "text/plain": [
       "0"
      ]
     },
     "execution_count": 9,
     "metadata": {},
     "output_type": "execute_result"
    }
   ],
   "source": [
    "stage.show_gui()"
   ]
  },
  {
   "cell_type": "markdown",
   "id": "8f399ac9-5f73-4033-8310-30ae85ede442",
   "metadata": {},
   "source": [
    "## Debugging with direct access"
   ]
  },
  {
   "cell_type": "code",
   "execution_count": 1,
   "id": "bb36e4db-010d-495e-8c95-fd639df0bd03",
   "metadata": {},
   "outputs": [],
   "source": [
    "import serial"
   ]
  },
  {
   "cell_type": "code",
   "execution_count": 2,
   "id": "9d74e41f-fcc6-418a-bdb8-b4e4d5febd7f",
   "metadata": {},
   "outputs": [],
   "source": [
    "smc = serial.Serial(\"COM4\", baudrate=57600, bytesize=8, stopbits=1, parity='N', xonxoff=True, timeout=1)"
   ]
  },
  {
   "cell_type": "code",
   "execution_count": 3,
   "id": "750b827f-b8ed-4eeb-80e7-4c9d6e9c43ef",
   "metadata": {},
   "outputs": [
    {
     "data": {
      "text/plain": [
       "Serial<id=0x26eb0a50eb0, open=True>(port='COM4', baudrate=57600, bytesize=8, parity='N', stopbits=1, timeout=1, xonxoff=True, rtscts=False, dsrdtr=False)"
      ]
     },
     "execution_count": 3,
     "metadata": {},
     "output_type": "execute_result"
    }
   ],
   "source": [
    "smc"
   ]
  },
  {
   "cell_type": "code",
   "execution_count": null,
   "id": "e20a6e68-f137-4413-8863-b0298fb39568",
   "metadata": {},
   "outputs": [],
   "source": [
    "XES = {'X': 1, 'Z': 2}\n",
    "\n",
    "def write_cmd(axis, cmd):\n",
    "    full_cmd = f\"{AXES[axis]}{cmd}\\r\\n\"\n",
    "    ser.write(full_cmd.encode())\n",
    "    time.sleep(0.1)\n",
    "    return ser.read_all().decode().strip()\n",
    "\n",
    "def move_to(axis, pos):\n",
    "    try:\n",
    "        pos = float(pos)\n",
    "        write_cmd(axis, f\"PA{pos}\")\n",
    "        write_cmd(axis, \"WS\")  # Wait until motion is complete\n",
    "        messagebox.showinfo(\"Success\", f\"{axis} axis moved to {pos}\")\n",
    "    except Exception as e:\n",
    "        messagebox.showerror(\"Error\", str(e))\n",
    "\n",
    "def home_axis(axis):\n",
    "    try:\n",
    "        write_cmd(axis, \"OR\")  # Homing\n",
    "        write_cmd(axis, \"WS\")  # Wait until done\n",
    "        messagebox.showinfo(\"Success\", f\"{axis} axis homed\")\n",
    "    except Exception as e:\n",
    "        messagebox.showerror(\"Error\", str(e))\n",
    "\n",
    "# Initialize devices\n",
    "for axis in AXES:\n",
    "    write_cmd(axis, \"RS\")  # Reset\n",
    "    time.sleep(0.5)\n",
    "    write_cmd(axis, \"OR\")  # Home\n",
    "    write_cmd(axis, \"WS\")"
   ]
  },
  {
   "cell_type": "code",
   "execution_count": null,
   "id": "a4c084b5-46e5-45d0-90c0-5735cb62d1ef",
   "metadata": {},
   "outputs": [],
   "source": []
  },
  {
   "cell_type": "code",
   "execution_count": 18,
   "id": "c6abe968-0de0-49fc-b925-09b9d0e0c2b7",
   "metadata": {},
   "outputs": [
    {
     "data": {
      "text/plain": [
       "5"
      ]
     },
     "execution_count": 18,
     "metadata": {},
     "output_type": "execute_result"
    }
   ],
   "source": [
    "cmd = \"2TS\\r\\n\"\n",
    "smc.write(cmd.encode())"
   ]
  },
  {
   "cell_type": "code",
   "execution_count": 19,
   "id": "af829faa-25ba-445d-92d8-4ab04b926f5c",
   "metadata": {},
   "outputs": [],
   "source": [
    "smc.flush()"
   ]
  },
  {
   "cell_type": "code",
   "execution_count": 20,
   "id": "1601774d-a66b-4cd7-bf56-d1fa0b2883af",
   "metadata": {},
   "outputs": [],
   "source": [
    "c = smc.readline()"
   ]
  },
  {
   "cell_type": "code",
   "execution_count": 21,
   "id": "69ec77e2-32cf-4ea3-8ef4-1be6afc09f72",
   "metadata": {},
   "outputs": [
    {
     "data": {
      "text/plain": [
       "b'2TS00000C\\r\\n'"
      ]
     },
     "execution_count": 21,
     "metadata": {},
     "output_type": "execute_result"
    }
   ],
   "source": [
    "c"
   ]
  },
  {
   "cell_type": "code",
   "execution_count": 23,
   "id": "b921ad7e-f4ac-41cf-9f04-c4b19f90d575",
   "metadata": {},
   "outputs": [
    {
     "data": {
      "text/plain": [
       "'2TS00000C\\r\\n'"
      ]
     },
     "execution_count": 23,
     "metadata": {},
     "output_type": "execute_result"
    }
   ],
   "source": [
    "str() + c.decode()"
   ]
  },
  {
   "cell_type": "code",
   "execution_count": 10,
   "id": "c5756d60-d406-43cd-bd3d-d8a1a7066fd1",
   "metadata": {},
   "outputs": [
    {
     "data": {
      "text/plain": [
       "Serial<id=0x1f7c2cda280, open=True>(port='COM4', baudrate=57600, bytesize=8, parity='N', stopbits=1, timeout=1, xonxoff=True, rtscts=False, dsrdtr=False)"
      ]
     },
     "execution_count": 10,
     "metadata": {},
     "output_type": "execute_result"
    }
   ],
   "source": [
    "smc"
   ]
  },
  {
   "cell_type": "code",
   "execution_count": null,
   "id": "565fdeed-9153-4bca-ac6f-e577fda99194",
   "metadata": {},
   "outputs": [],
   "source": []
  },
  {
   "cell_type": "code",
   "execution_count": null,
   "id": "151d65e7-fd67-468a-bddc-8f2e1c6817c6",
   "metadata": {},
   "outputs": [],
   "source": []
  }
 ],
 "metadata": {
  "kernelspec": {
   "display_name": "nplabkernel",
   "language": "python",
   "name": "nplabkernel"
  },
  "language_info": {
   "codemirror_mode": {
    "name": "ipython",
    "version": 3
   },
   "file_extension": ".py",
   "mimetype": "text/x-python",
   "name": "python",
   "nbconvert_exporter": "python",
   "pygments_lexer": "ipython3",
   "version": "3.13.2"
  }
 },
 "nbformat": 4,
 "nbformat_minor": 5
}
